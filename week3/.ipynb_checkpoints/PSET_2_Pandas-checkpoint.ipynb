{
 "cells": [
  {
   "cell_type": "markdown",
   "metadata": {},
   "source": [
    "# Problem Set 2: Intro to Pandas"
   ]
  },
  {
   "cell_type": "markdown",
   "metadata": {},
   "source": [
    "## Part 1\n",
    "\n",
    "In this problem set we are going to be working with a processed O-D dataset, Pandas, and Matplotlib.\n",
    "\n",
    "First, a short example will introduce us to the dataset, some data wrangling functions of Pandas, and a few plots with Matplotlib. \n",
    "The OD data was collected based on cell phone towers. Usually, OD datasets are quite big, and contain individual data points, with origin-destination information between cell phone towers. In this case, the dataset has previously been aggregated and processed. While the text files are still very big, their size is significantly smaller than the original dataset. \n",
    "The files that follow the \"Rn_OD_X-Y\" naming structure contain the origin-destination flow from hour X to hour Y with the following columns:\n",
    "\n",
    "* Origin tower ID\n",
    "* Destination tower ID\n",
    "* Closest road intersection to origin \n",
    "* Closest intersection to destination\n",
    "* Origin-destination flow\n",
    "\n",
    "The file \"towers_index.txt\" contains the locations of all the cell towers with the following columns. The row number is the id of the cell tower starting with 1.\n",
    "\n",
    "* Latitude\n",
    "* Longitude\n",
    "* Node ID of the closest intersection to the tower\n",
    "\n",
    "Throughout the exercises we will be continuously using Pandas and some of its merging functionality to join the numerous OD files available. We will be building exploratory data visualizations, finding urban patterns and locating divergent areas within the dataset. Some useful documentation for merging data with Pandas can be found at:\n",
    "\n",
    "\n",
    "http://pandas.pydata.org/pandas-docs/stable/merging.html"
   ]
  },
  {
   "cell_type": "markdown",
   "metadata": {},
   "source": [
    "First, lets import some of our libraries. If you haven't installed seaborn already, please type on your command line:\n",
    "\n",
    "```Python\n",
    "pip install seaborn\n",
    "```"
   ]
  },
  {
   "cell_type": "code",
   "execution_count": 1,
   "metadata": {
    "collapsed": false
   },
   "outputs": [],
   "source": [
    "import pandas as pd\n",
    "import numpy as np\n",
    "import seaborn as sns\n",
    "import matplotlib.pylab as plt\n",
    "\n",
    "# This line lets us plot on our ipython notebook\n",
    "%matplotlib inline"
   ]
  },
  {
   "cell_type": "markdown",
   "metadata": {},
   "source": [
    "Let’s read one of the OD files with Pandas. Since the file has no header, we need to provide the header names. Luckily, we have all the information we need on the `DATA_STRUCTURES.txt` file. "
   ]
  },
  {
   "cell_type": "code",
   "execution_count": 4,
   "metadata": {
    "collapsed": false
   },
   "outputs": [
    {
     "data": {
      "text/html": [
       "<div>\n",
       "<table border=\"1\" class=\"dataframe\">\n",
       "  <thead>\n",
       "    <tr style=\"text-align: right;\">\n",
       "      <th></th>\n",
       "      <th>oid</th>\n",
       "      <th>did</th>\n",
       "      <th>close_rid_origin</th>\n",
       "      <th>close_rid_dest</th>\n",
       "      <th>flow</th>\n",
       "    </tr>\n",
       "  </thead>\n",
       "  <tbody>\n",
       "    <tr>\n",
       "      <th>0</th>\n",
       "      <td>1</td>\n",
       "      <td>2</td>\n",
       "      <td>20404</td>\n",
       "      <td>16208</td>\n",
       "      <td>1</td>\n",
       "    </tr>\n",
       "    <tr>\n",
       "      <th>1</th>\n",
       "      <td>1</td>\n",
       "      <td>20</td>\n",
       "      <td>20404</td>\n",
       "      <td>11056</td>\n",
       "      <td>3</td>\n",
       "    </tr>\n",
       "  </tbody>\n",
       "</table>\n",
       "</div>"
      ],
      "text/plain": [
       "   oid  did  close_rid_origin  close_rid_dest  flow\n",
       "0    1    2             20404           16208     1\n",
       "1    1   20             20404           11056     3"
      ]
     },
     "execution_count": 4,
     "metadata": {},
     "output_type": "execute_result"
    }
   ],
   "source": [
    "df_01=pd.read_csv(\"data/Hourly Flows/Rn_OD_0-1.txt\", header=None, \n",
    "    names=['oid', 'did', 'close_rid_origin', 'close_rid_dest', 'flow'])\n",
    "df_01.head(2)"
   ]
  },
  {
   "cell_type": "markdown",
   "metadata": {},
   "source": [
    "We need to import every file with a separate function. \n",
    "\n",
    "`Hint: You can import multiple files with a for loop, or building a function, without having to declare them individually`"
   ]
  },
  {
   "cell_type": "code",
   "execution_count": 5,
   "metadata": {
    "collapsed": false
   },
   "outputs": [
    {
     "data": {
      "text/html": [
       "<div>\n",
       "<table border=\"1\" class=\"dataframe\">\n",
       "  <thead>\n",
       "    <tr style=\"text-align: right;\">\n",
       "      <th></th>\n",
       "      <th>oid</th>\n",
       "      <th>did</th>\n",
       "      <th>close_rid_origin</th>\n",
       "      <th>close_rid_dest</th>\n",
       "      <th>flow</th>\n",
       "    </tr>\n",
       "  </thead>\n",
       "  <tbody>\n",
       "    <tr>\n",
       "      <th>0</th>\n",
       "      <td>1</td>\n",
       "      <td>14</td>\n",
       "      <td>20404</td>\n",
       "      <td>18826</td>\n",
       "      <td>1</td>\n",
       "    </tr>\n",
       "    <tr>\n",
       "      <th>1</th>\n",
       "      <td>1</td>\n",
       "      <td>23</td>\n",
       "      <td>20404</td>\n",
       "      <td>16864</td>\n",
       "      <td>1</td>\n",
       "    </tr>\n",
       "  </tbody>\n",
       "</table>\n",
       "</div>"
      ],
      "text/plain": [
       "   oid  did  close_rid_origin  close_rid_dest  flow\n",
       "0    1   14             20404           18826     1\n",
       "1    1   23             20404           16864     1"
      ]
     },
     "execution_count": 5,
     "metadata": {},
     "output_type": "execute_result"
    }
   ],
   "source": [
    "df_12=pd.read_csv(\"data/Hourly Flows/Rn_OD_1-2.txt\", header=None, \n",
    "               names=['oid', 'did', 'close_rid_origin', 'close_rid_dest', 'flow'])\n",
    "df_12.head(2)"
   ]
  },
  {
   "cell_type": "markdown",
   "metadata": {},
   "source": [
    "If you notice, the df structure of both files is similar. We can perform a SQL style join based on a column or index on either of the df’s. In this case, since the rest of the columns are the same, we are only keeping the flow column of the second df.\n",
    "\n",
    "`Hint: You can merge multiple files with a for loop, or building a function, without having to do so individually`"
   ]
  },
  {
   "cell_type": "code",
   "execution_count": 6,
   "metadata": {
    "collapsed": false,
    "scrolled": true
   },
   "outputs": [
    {
     "data": {
      "text/html": [
       "<div>\n",
       "<table border=\"1\" class=\"dataframe\">\n",
       "  <thead>\n",
       "    <tr style=\"text-align: right;\">\n",
       "      <th></th>\n",
       "      <th>oid</th>\n",
       "      <th>did</th>\n",
       "      <th>close_rid_origin</th>\n",
       "      <th>close_rid_dest</th>\n",
       "      <th>flow0-1</th>\n",
       "      <th>flow1-2</th>\n",
       "    </tr>\n",
       "  </thead>\n",
       "  <tbody>\n",
       "    <tr>\n",
       "      <th>0</th>\n",
       "      <td>1</td>\n",
       "      <td>2</td>\n",
       "      <td>20404</td>\n",
       "      <td>16208</td>\n",
       "      <td>1</td>\n",
       "      <td>1</td>\n",
       "    </tr>\n",
       "    <tr>\n",
       "      <th>1</th>\n",
       "      <td>1</td>\n",
       "      <td>20</td>\n",
       "      <td>20404</td>\n",
       "      <td>11056</td>\n",
       "      <td>3</td>\n",
       "      <td>1</td>\n",
       "    </tr>\n",
       "  </tbody>\n",
       "</table>\n",
       "</div>"
      ],
      "text/plain": [
       "   oid  did  close_rid_origin  close_rid_dest  flow0-1  flow1-2\n",
       "0    1    2             20404           16208        1        1\n",
       "1    1   20             20404           11056        3        1"
      ]
     },
     "execution_count": 6,
     "metadata": {},
     "output_type": "execute_result"
    }
   ],
   "source": [
    "combined_flow = df_01.join(df_12['flow'], lsuffix='0-1', rsuffix='1-2')\n",
    "combined_flow[:2]"
   ]
  },
  {
   "cell_type": "markdown",
   "metadata": {},
   "source": [
    "We can visualize our newly merged tables with a basic area plot. This plot visualizes the flow within the cell phone towers throughout the 2 different time ranges. By slicing the dataset, we are only plotting some of the towers. "
   ]
  },
  {
   "cell_type": "code",
   "execution_count": 7,
   "metadata": {
    "collapsed": false
   },
   "outputs": [
    {
     "data": {
      "text/plain": [
       "<matplotlib.axes._subplots.AxesSubplot at 0x11bfdc690>"
      ]
     },
     "execution_count": 7,
     "metadata": {},
     "output_type": "execute_result"
    },
    {
     "data": {
      "image/png": "[encoded data removed]",
      "text/plain": [
       "<matplotlib.figure.Figure at 0x106f9d0d0>"
      ]
     },
     "metadata": {},
     "output_type": "display_data"
    }
   ],
   "source": [
    "combined_flow[:5][['flow0-1','flow1-2']].transpose().plot(kind='area', stacked=False, \n",
    "                                                            legend=True, title='Tower Flows')"
   ]
  },
  {
   "cell_type": "markdown",
   "metadata": {},
   "source": [
    "\n",
    "**Based on the code snippets, and your previous code your job is to build:**\n",
    "\n",
    "* A function that merges the 24 hour ranges into a single DataFrame. The function must have the following inputs/outputs:\n",
    "    1. Inputs: \n",
    "      1. A file path to extract the different files from\n",
    "      * A column name to merge into a single DataFrame\n",
    "      * A list of column names for the DataFrame\n",
    "    2. Outputs: \n",
    "      1. A DataFrame with the merged columns"
   ]
  },
  {
   "cell_type": "code",
   "execution_count": 8,
   "metadata": {
    "collapsed": false
   },
   "outputs": [
    {
     "ename": "NameError",
     "evalue": "name 'i' is not defined",
     "output_type": "error",
     "traceback": [
      "\u001b[0;31m---------------------------------------------------------------------------\u001b[0m",
      "\u001b[0;31mNameError\u001b[0m                                 Traceback (most recent call last)",
      "\u001b[0;32m<ipython-input-8-54f945b45578>\u001b[0m in \u001b[0;36m<module>\u001b[0;34m()\u001b[0m\n\u001b[1;32m      1\u001b[0m \u001b[0;31m## 1.A File path to extract the different files from\u001b[0m\u001b[0;34m\u001b[0m\u001b[0;34m\u001b[0m\u001b[0m\n\u001b[0;32m----> 2\u001b[0;31m \u001b[0mi\u001b[0m\u001b[0;34m\u001b[0m\u001b[0m\n\u001b[0m\u001b[1;32m      3\u001b[0m \u001b[0;32mdef\u001b[0m \u001b[0mfile_path\u001b[0m\u001b[0;34m(\u001b[0m\u001b[0mi\u001b[0m\u001b[0;34m)\u001b[0m\u001b[0;34m:\u001b[0m\u001b[0;34m\u001b[0m\u001b[0m\n\u001b[1;32m      4\u001b[0m     \u001b[0mj\u001b[0m\u001b[0;34m=\u001b[0m\u001b[0mi\u001b[0m\u001b[0;34m+\u001b[0m\u001b[0;36m1\u001b[0m\u001b[0;34m\u001b[0m\u001b[0m\n\u001b[1;32m      5\u001b[0m     \u001b[0mpath\u001b[0m \u001b[0;34m=\u001b[0m \u001b[0;34m\"data/Hourly Flows/Rn_OD_i-j.txt\"\u001b[0m\u001b[0;34m\u001b[0m\u001b[0m\n",
      "\u001b[0;31mNameError\u001b[0m: name 'i' is not defined"
     ]
    }
   ],
   "source": [
    "## 1.A File path to extract the different files from\n",
    "i\n",
    "def file_path(i):\n",
    "    j=i+1\n",
    "    path = \"data/Hourly Flows/Rn_OD_i-j.txt\"\n",
    "    path = path.replace(\"i\",str(i))\n",
    "    path = path.replace(\"j\",str(j))\n",
    "    print path\n",
    "for i in range(0,2):\n",
    "    file_path(i)"
   ]
  },
  {
   "cell_type": "code",
   "execution_count": 9,
   "metadata": {
    "collapsed": false
   },
   "outputs": [
    {
     "name": "stdout",
     "output_type": "stream",
     "text": [
      "['flow0-1', 'flow1-2', 'flow2-3', 'flow3-4', 'flow4-5', 'flow5-6', 'flow6-7', 'flow7-8', 'flow8-9', 'flow9-10', 'flow10-11', 'flow11-12', 'flow12-13', 'flow13-14', 'flow14-15', 'flow15-16', 'flow16-17', 'flow17-18', 'flow18-19', 'flow19-20', 'flow20-21', 'flow21-22', 'flow22-23', 'flow23-24']\n"
     ]
    }
   ],
   "source": [
    "## 1.B & 1.C Column Name and A list of Column Names to merge into a single DataFrame\n",
    "mylist = []\n",
    "def add_list(i):\n",
    "    j= i+1\n",
    "    a = \"flow\"+str(i)+\"-\"+str(j)\n",
    "    mylist.append(a)\n",
    "    \n",
    "    if (i == 23) :\n",
    "        print mylist\n",
    "\n",
    "for i in range(0,24):\n",
    "    add_list(i)"
   ]
  },
  {
   "cell_type": "code",
   "execution_count": 10,
   "metadata": {
    "collapsed": false
   },
   "outputs": [
    {
     "name": "stdout",
     "output_type": "stream",
     "text": [
      "   oid  did  close_rid_origin  close_rid_dest  flow0-1\n",
      "0    1    2             20404           16208        1\n",
      "1    1   20             20404           11056        3\n",
      "2    1   38             20404           18943        6\n",
      "   oid  did  close_rid_origin  close_rid_dest  flow1-2\n",
      "0    1   14             20404           18826        1\n",
      "1    1   23             20404           16864        1\n",
      "2    1   38             20404           18943        1\n",
      "   oid  did  close_rid_origin  close_rid_dest  flow2-3\n",
      "0    1   20             20404           11056        1\n",
      "1    1  170             20404           19595        1\n",
      "2    1  225             20404           17826        1\n"
     ]
    }
   ],
   "source": [
    "# write a read file function\n",
    "\n",
    "def read(i):\n",
    "    j=i+1\n",
    "    df=pd.read_csv(\"data/Hourly Flows/Rn_OD_\"+str(i)+\"-\"+str(j)+\".txt\", header=None, \n",
    "               names=['oid', 'did', 'close_rid_origin', 'close_rid_dest', (\"flow\"+str(i)+\"-\"+str(j))])\n",
    "    print df.head(3)\n",
    "for i in range(0,3):\n",
    "    read(i)"
   ]
  },
  {
   "cell_type": "code",
   "execution_count": 11,
   "metadata": {
    "collapsed": false
   },
   "outputs": [
    {
     "name": "stdout",
     "output_type": "stream",
     "text": [
      "['flow1-2', 'flow2-3', 'flow3-4', 'flow4-5', 'flow5-6', 'flow6-7', 'flow7-8', 'flow8-9', 'flow9-10', 'flow10-11', 'flow11-12', 'flow12-13', 'flow13-14', 'flow14-15', 'flow15-16', 'flow16-17', 'flow17-18', 'flow18-19', 'flow19-20', 'flow20-21', 'flow21-22', 'flow22-23', 'flow23-24']\n",
      "   oid  did  close_rid_origin  close_rid_dest  flow0-1  flow1-2  flow2-3  \\\n",
      "0    1    2             20404           16208        1        1        1   \n",
      "1    1   20             20404           11056        3        1        1   \n",
      "\n",
      "   flow3-4  flow4-5  flow5-6    ...      flow14-15  flow15-16  flow16-17  \\\n",
      "0        1        1        1    ...              1          2          2   \n",
      "1        1        1        1    ...              1          2          1   \n",
      "\n",
      "   flow17-18  flow18-19  flow19-20  flow20-21  flow21-22  flow22-23  flow23-24  \n",
      "0          1          2          1          1         25          1          6  \n",
      "1          1          1          2         20          2          1          1  \n",
      "\n",
      "[2 rows x 28 columns]\n"
     ]
    },
    {
     "data": {
      "text/plain": [
       "<matplotlib.axes._subplots.AxesSubplot at 0x11bbe5150>"
      ]
     },
     "execution_count": 11,
     "metadata": {},
     "output_type": "execute_result"
    },
    {
     "data": {
      "image/png": "[encoded data removed]",
      "text/plain": [
       "<matplotlib.figure.Figure at 0x11c246410>"
      ]
     },
     "metadata": {},
     "output_type": "display_data"
    }
   ],
   "source": [
    "# Add your code below:\n",
    "\n",
    "## import libraries\n",
    "import pandas as pd\n",
    "import numpy as np\n",
    "import seaborn as sns\n",
    "import matplotlib.pylab as plt\n",
    "\n",
    "## This line lets us plot on our ipython notebook\n",
    "%matplotlib inline\n",
    "\n",
    "## Read and Define basic dataframe df which contains a column 'flow0-1'\n",
    "df = pd.read_csv(\"data/Hourly Flows/Rn_OD_0-1.txt\", header=None, \n",
    "               names=['oid', 'did', 'close_rid_origin', 'close_rid_dest', 'flow0-1'])\n",
    "\n",
    "## Define a list of column names\n",
    "mylist = []\n",
    "def add_list(i):\n",
    "    j= i+1\n",
    "    a = \"flow\"+str(i)+\"-\"+str(j)\n",
    "    mylist.append(a)\n",
    "    \n",
    "    if (i == 23) :\n",
    "        print mylist\n",
    "\n",
    "## Define a function \"combine_file\" \n",
    "## that add column named \"flowi-j\" from the directory \"data/Hourly Flows/Rn_OD_i-j.txt\"\n",
    "def combine_file(i):\n",
    "    global df\n",
    "    j=i+1\n",
    "    df_i=pd.read_csv(\"data/Hourly Flows/Rn_OD_\"+str(i)+\"-\"+str(j)+\".txt\", header=None, \n",
    "               names=['oid', 'did', 'close_rid_origin', 'close_rid_dest', (\"flow\"+str(i)+\"-\"+str(j))])\n",
    "    df = df.join(df_i[\"flow\"+str(i)+\"-\"+str(j)])\n",
    "    \n",
    "    if (i == 23) :\n",
    "        print df[:2]\n",
    "\n",
    "## add column from i= 1 to i = 24    \n",
    "for i in range(1,24):\n",
    "    add_list(i)\n",
    "    combine_file(i)\n",
    "    \n",
    "## Plot the graph\n",
    "df[:10][mylist[0:24]].transpose().plot(kind='area', stacked=False, \n",
    "                                                            legend=True, title='Tower Flows')"
   ]
  },
  {
   "cell_type": "markdown",
   "metadata": {},
   "source": [
    "* Using all the towers: Make an area plot that shows the relationship between OD flows throughout the 24 hr ranges."
   ]
  },
  {
   "cell_type": "markdown",
   "metadata": {},
   "source": [
    "** Choose ONE of the following TWO questions.**\n",
    "* An area plot with **four** different areas:\n",
    "    1. The average flow values across **all** towers\n",
    "    2. The maximum flow values across **all** towers\n",
    "    3. The minimum flow values across **all** towers\n",
    "    4. The median flow values across **all** towers"
   ]
  },
  {
   "cell_type": "code",
   "execution_count": 12,
   "metadata": {
    "collapsed": false
   },
   "outputs": [
    {
     "name": "stdout",
     "output_type": "stream",
     "text": [
      "[1.18, 1.14, 1.11, 1.11, 1.11, 1.1, 1.16, 1.21, 1.31, 1.41, 1.51, 1.56, 1.53, 1.5, 1.46, 1.55, 1.68, 1.66, 1.66, 1.63, 1.61, 1.52, 1.42, 1.28]\n",
      "[47.0, 19.0, 12.0, 7.0, 12.0, 22.0, 21.0, 28.0, 49.0, 48.0, 61.0, 64.0, 89.0, 100.0, 130.0, 147.0, 171.0, 169.0, 221.0, 254.0, 243.0, 203.0, 163.0, 81.0]\n",
      "[0.0, 1.0, 1.0, 1.0, 1.0, 1.0, 1.0, 1.0, 1.0, 1.0, 1.0, 1.0, 1.0, 1.0, 1.0, 1.0, 1.0, 1.0, 1.0, 1.0, 1.0, 1.0, 1.0, 1.0]\n",
      "[1.0, 1.0, 1.0, 1.0, 1.0, 1.0, 1.0, 1.0, 1.0, 1.0, 1.0, 1.0, 1.0, 1.0, 1.0, 1.0, 1.0, 1.0, 1.0, 1.0, 1.0, 1.0, 1.0, 1.0]\n"
     ]
    }
   ],
   "source": [
    "# Add your code below:\n",
    "\n",
    "## Function \"mean_list(i)\" to caculate and write a list of mean values\n",
    "meanList = []\n",
    "def mean_list(i):\n",
    "    j=i+1\n",
    "    MEAN = df[(\"flow\"+str(i)+\"-\"+str(j))].mean()\n",
    "    MEAN = round(MEAN,2)\n",
    "    meanList.append(MEAN)\n",
    "    \n",
    "    if (i == 23) :\n",
    "        print meanList\n",
    "        \n",
    "## Function \"max_list(i)\" to caculate and write a list of max values\n",
    "maxList = []\n",
    "def max_list(i):\n",
    "    j=i+1\n",
    "    MAX = df[(\"flow\"+str(i)+\"-\"+str(j))].max()\n",
    "    MAX = round(MAX,2)\n",
    "    maxList.append(MAX)\n",
    "    \n",
    "    if (i == 23) :\n",
    "        print maxList        \n",
    "\n",
    "## Function \"min_list(i)\" to caculate and write a list of min values\n",
    "minList = []\n",
    "def min_list(i):\n",
    "    j=i+1\n",
    "    MIN = df[(\"flow\"+str(i)+\"-\"+str(j))].min()\n",
    "    MIN = round(MIN,2)\n",
    "    minList.append(MIN)\n",
    "    \n",
    "    if (i == 23) :\n",
    "        print minList      \n",
    "        \n",
    "## Function \"median\" and \"median_List(i)\"\n",
    "import numpy\n",
    "def median(lst):\n",
    "    return numpy.median(numpy.array(lst))\n",
    "\n",
    "medList = []\n",
    "def med_list(i):\n",
    "    j=i+1\n",
    "    MED = df[(\"flow\"+str(i)+\"-\"+str(j))].median()\n",
    "    MED = round(MED,2)\n",
    "    medList.append(MED)\n",
    "    \n",
    "    if (i == 23) :\n",
    "        print medList\n",
    "        \n",
    "for i in range(0,24):\n",
    "    mean_list(i)\n",
    "    max_list(i)\n",
    "    min_list(i)\n",
    "    med_list(i)"
   ]
  },
  {
   "cell_type": "code",
   "execution_count": 13,
   "metadata": {
    "collapsed": false
   },
   "outputs": [
    {
     "name": "stdout",
     "output_type": "stream",
     "text": [
      "['flow0-1', 'flow1-2', 'flow2-3', 'flow3-4', 'flow4-5', 'flow5-6', 'flow6-7', 'flow7-8', 'flow8-9', 'flow9-10', 'flow10-11', 'flow11-12', 'flow12-13', 'flow13-14', 'flow14-15', 'flow15-16', 'flow16-17', 'flow17-18', 'flow18-19', 'flow19-20', 'flow20-21', 'flow21-22', 'flow22-23', 'flow23-24']\n",
      "   flow0-1  flow1-2  flow2-3  flow3-4  flow4-5  flow5-6  flow6-7  flow7-8  \\\n",
      "0     1.18     1.14     1.11     1.11     1.11      1.1     1.16     1.21   \n",
      "1    47.00    19.00    12.00     7.00    12.00     22.0    21.00    28.00   \n",
      "2     0.00     1.00     1.00     1.00     1.00      1.0     1.00     1.00   \n",
      "3     1.00     1.00     1.00     1.00     1.00      1.0     1.00     1.00   \n",
      "\n",
      "   flow8-9  flow9-10    ...      flow14-15  flow15-16  flow16-17  flow17-18  \\\n",
      "0     1.31      1.41    ...           1.46       1.55       1.68       1.66   \n",
      "1    49.00     48.00    ...         130.00     147.00     171.00     169.00   \n",
      "2     1.00      1.00    ...           1.00       1.00       1.00       1.00   \n",
      "3     1.00      1.00    ...           1.00       1.00       1.00       1.00   \n",
      "\n",
      "   flow18-19  flow19-20  flow20-21  flow21-22  flow22-23  flow23-24  \n",
      "0       1.66       1.63       1.61       1.52       1.42       1.28  \n",
      "1     221.00     254.00     243.00     203.00     163.00      81.00  \n",
      "2       1.00       1.00       1.00       1.00       1.00       1.00  \n",
      "3       1.00       1.00       1.00       1.00       1.00       1.00  \n",
      "\n",
      "[4 rows x 24 columns]\n"
     ]
    },
    {
     "data": {
      "text/plain": [
       "<matplotlib.axes._subplots.AxesSubplot at 0x11ec11a90>"
      ]
     },
     "execution_count": 13,
     "metadata": {},
     "output_type": "execute_result"
    },
    {
     "data": {
      "image/png": "[encoded data removed]",
      "text/plain": [
       "<matplotlib.figure.Figure at 0x11bfd1490>"
      ]
     },
     "metadata": {},
     "output_type": "display_data"
    }
   ],
   "source": [
    "## add rows to the dataframe \"df\"\n",
    "columnList = []\n",
    "def column_list(i):\n",
    "    j= i+1\n",
    "    a = \"flow\"+str(i)+\"-\"+str(j)\n",
    "    columnList.append(a)\n",
    "    \n",
    "    if (i == 23) :\n",
    "        print columnList\n",
    "\n",
    "for i in range(0,24):\n",
    "    column_list(i)\n",
    "    \n",
    "s1 = meanList\n",
    "s2 = maxList\n",
    "s3 = minList\n",
    "s4 = medList\n",
    "index = [0, 1, 2, 3]\n",
    "df2 = pd.DataFrame(columns=[columnList[0:24]], index=index)\n",
    "df2.loc[0:4] = [s1, list(s2), s3, list(s4)]\n",
    "print df2\n",
    "\n",
    "df2[:10][mylist].transpose().plot(kind='area', stacked=False, \n",
    "                                                            legend=True, title='Tower Flows')"
   ]
  },
  {
   "cell_type": "markdown",
   "metadata": {},
   "source": [
    "* Based on the overall trends that you just noticed with the previous plots, construct:\n",
    "    1. An area plot based on the values of 5 towers with flow values that are closer to the average trend.\n",
    "    2. An area plot based on the outlier values. You will plot 3 towers with flow values that are closer to the minimum trend, and towers with flow values that are closer to the maximum trend."
   ]
  },
  {
   "cell_type": "code",
   "execution_count": 12,
   "metadata": {
    "collapsed": true
   },
   "outputs": [],
   "source": [
    "# Add your code below:\n"
   ]
  },
  {
   "cell_type": "markdown",
   "metadata": {},
   "source": [
    "## Part 2\n",
    "\n",
    "Now we will use the additional file provided to display the geographical location of every tower. We will first import the file and look at its structure. Since the file has no header, we will use the information provided on the `DATA_STRUCTURES.txt` file. The row number corresponds to the tower index; in order to relate every tower with the OD files, we will add an additional column with the row number as an index. We can do so with the following `DataFrame` function:\n",
    "```Python\n",
    "DataFrame.reset_index(level=0, inplace=True)\n",
    "```\n"
   ]
  },
  {
   "cell_type": "code",
   "execution_count": 16,
   "metadata": {
    "collapsed": false
   },
   "outputs": [
    {
     "data": {
      "text/html": [
       "<div>\n",
       "<table border=\"1\" class=\"dataframe\">\n",
       "  <thead>\n",
       "    <tr style=\"text-align: right;\">\n",
       "      <th></th>\n",
       "      <th>index</th>\n",
       "      <th>Latitude</th>\n",
       "      <th>Longitude</th>\n",
       "      <th>Closest node ID</th>\n",
       "    </tr>\n",
       "  </thead>\n",
       "  <tbody>\n",
       "    <tr>\n",
       "      <th>0</th>\n",
       "      <td>0</td>\n",
       "      <td>24.517</td>\n",
       "      <td>46.776</td>\n",
       "      <td>20404</td>\n",
       "    </tr>\n",
       "    <tr>\n",
       "      <th>1</th>\n",
       "      <td>1</td>\n",
       "      <td>24.517</td>\n",
       "      <td>46.890</td>\n",
       "      <td>16208</td>\n",
       "    </tr>\n",
       "    <tr>\n",
       "      <th>2</th>\n",
       "      <td>2</td>\n",
       "      <td>24.517</td>\n",
       "      <td>46.890</td>\n",
       "      <td>16208</td>\n",
       "    </tr>\n",
       "    <tr>\n",
       "      <th>3</th>\n",
       "      <td>3</td>\n",
       "      <td>24.524</td>\n",
       "      <td>46.710</td>\n",
       "      <td>18805</td>\n",
       "    </tr>\n",
       "    <tr>\n",
       "      <th>4</th>\n",
       "      <td>4</td>\n",
       "      <td>24.525</td>\n",
       "      <td>46.648</td>\n",
       "      <td>11072</td>\n",
       "    </tr>\n",
       "  </tbody>\n",
       "</table>\n",
       "</div>"
      ],
      "text/plain": [
       "   index  Latitude  Longitude  Closest node ID\n",
       "0      0    24.517     46.776            20404\n",
       "1      1    24.517     46.890            16208\n",
       "2      2    24.517     46.890            16208\n",
       "3      3    24.524     46.710            18805\n",
       "4      4    24.525     46.648            11072"
      ]
     },
     "execution_count": 16,
     "metadata": {},
     "output_type": "execute_result"
    }
   ],
   "source": [
    "towers=pd.read_csv(\"data/Hourly Flows/towers_index.txt\", header=None, \n",
    "               names=['Latitude', 'Longitude', 'Closest node ID'])\n",
    "# Use the row value as the index column\n",
    "towers.reset_index(level=0, inplace=True)\n",
    "towers.head(5)"
   ]
  },
  {
   "cell_type": "markdown",
   "metadata": {},
   "source": [
    "If you look at the structure of the OD file, every tower is repeated several times: for every origin tower, there are several destinations. In SQL terms, we can use a `one-to-many` relationship to assign the geographic values of the towers, to the origin or destination towers. By joining a `DataFrame` `on` a given column, Pandas will assign the row value of every element that matches the value of the given column on the other `DataFrame`. We will also group the origin values of the OD Dataframe, and get their average before joining it with the towers’ geographical location. "
   ]
  },
  {
   "cell_type": "code",
   "execution_count": 17,
   "metadata": {
    "collapsed": false,
    "scrolled": true
   },
   "outputs": [
    {
     "data": {
      "text/html": [
       "<div>\n",
       "<table border=\"1\" class=\"dataframe\">\n",
       "  <thead>\n",
       "    <tr style=\"text-align: right;\">\n",
       "      <th></th>\n",
       "      <th>oid</th>\n",
       "      <th>flow</th>\n",
       "      <th>index</th>\n",
       "      <th>Latitude</th>\n",
       "      <th>Longitude</th>\n",
       "      <th>Closest node ID</th>\n",
       "    </tr>\n",
       "  </thead>\n",
       "  <tbody>\n",
       "    <tr>\n",
       "      <th>0</th>\n",
       "      <td>1</td>\n",
       "      <td>1.846154</td>\n",
       "      <td>1</td>\n",
       "      <td>24.517</td>\n",
       "      <td>46.890</td>\n",
       "      <td>16208</td>\n",
       "    </tr>\n",
       "    <tr>\n",
       "      <th>1</th>\n",
       "      <td>3</td>\n",
       "      <td>1.000000</td>\n",
       "      <td>3</td>\n",
       "      <td>24.524</td>\n",
       "      <td>46.710</td>\n",
       "      <td>18805</td>\n",
       "    </tr>\n",
       "    <tr>\n",
       "      <th>2</th>\n",
       "      <td>4</td>\n",
       "      <td>1.111111</td>\n",
       "      <td>4</td>\n",
       "      <td>24.525</td>\n",
       "      <td>46.648</td>\n",
       "      <td>11072</td>\n",
       "    </tr>\n",
       "    <tr>\n",
       "      <th>3</th>\n",
       "      <td>5</td>\n",
       "      <td>1.166667</td>\n",
       "      <td>5</td>\n",
       "      <td>24.529</td>\n",
       "      <td>46.687</td>\n",
       "      <td>18825</td>\n",
       "    </tr>\n",
       "    <tr>\n",
       "      <th>4</th>\n",
       "      <td>6</td>\n",
       "      <td>1.307692</td>\n",
       "      <td>6</td>\n",
       "      <td>24.530</td>\n",
       "      <td>46.722</td>\n",
       "      <td>18736</td>\n",
       "    </tr>\n",
       "  </tbody>\n",
       "</table>\n",
       "</div>"
      ],
      "text/plain": [
       "   oid      flow  index  Latitude  Longitude  Closest node ID\n",
       "0    1  1.846154      1    24.517     46.890            16208\n",
       "1    3  1.000000      3    24.524     46.710            18805\n",
       "2    4  1.111111      4    24.525     46.648            11072\n",
       "3    5  1.166667      5    24.529     46.687            18825\n",
       "4    6  1.307692      6    24.530     46.722            18736"
      ]
     },
     "execution_count": 17,
     "metadata": {},
     "output_type": "execute_result"
    }
   ],
   "source": [
    "# from the OD df, use only two columns, then group them by 'oid'\n",
    "grouped_01 = df_01[['flow','oid']].groupby('oid').mean()\n",
    "\n",
    "# use the oid as a column, not the index\n",
    "grouped_01.reset_index(level=0, inplace=True)\n",
    "\n",
    "# join with the tower df based on the oid\n",
    "OD_location = grouped_01.join(towers, on='oid')\n",
    "OD_location.head()"
   ]
  },
  {
   "cell_type": "code",
   "execution_count": 55,
   "metadata": {
    "collapsed": false
   },
   "outputs": [
    {
     "data": {
      "image/png": "[encoded data removed]",
      "text/plain": [
       "<matplotlib.figure.Figure at 0x11ef93810>"
      ]
     },
     "metadata": {},
     "output_type": "display_data"
    },
    {
     "data": {
      "image/png": "[encoded data removed]",
      "text/plain": [
       "<matplotlib.figure.Figure at 0x11ef93f50>"
      ]
     },
     "metadata": {},
     "output_type": "display_data"
    }
   ],
   "source": [
    "## change the alpha, edgecolor and color of the plots\n",
    "\n",
    "plt.scatter(OD_location['Longitude'],OD_location['Latitude'], \n",
    "            s=np.log(OD_location['flow'])*100, \n",
    "            edgecolors = 'black', color = \"blue\", alpha = 0.3)\n",
    "plt.show()\n",
    "\n",
    "## change the maker shape, size and linewidth of the plots\n",
    "\n",
    "plt.scatter(OD_location['Longitude'],OD_location['Latitude'], \n",
    "            s=np.log(OD_location['flow'])*100, marker='+',linewidth = 2, \n",
    "            edgecolors = 'black', color = \"blue\", alpha = 0.3)\n",
    "plt.show()"
   ]
  },
  {
   "cell_type": "markdown",
   "metadata": {},
   "source": [
    "Now that we have a new `DataFrame` with an average flow value for every origin tower, and their corresponding geographical location, we can use their lat/lon values to create a scatter plot. We can even vary their size based on the average flow. Since the flow variation across tower is not that big, we can use a log function to better visualize it on our plot. Numpy has a quick log implementation:\n",
    "```Python\n",
    "np.log(value)\n",
    "```\n"
   ]
  },
  {
   "cell_type": "code",
   "execution_count": 59,
   "metadata": {
    "collapsed": false
   },
   "outputs": [
    {
     "ename": "SyntaxError",
     "evalue": "invalid syntax (<ipython-input-59-52a70a0e4dc0>, line 11)",
     "output_type": "error",
     "traceback": [
      "\u001b[0;36m  File \u001b[0;32m\"<ipython-input-59-52a70a0e4dc0>\"\u001b[0;36m, line \u001b[0;32m11\u001b[0m\n\u001b[0;31m    edgecolors = 'black', color = (np.log(OD_location['flow']),cmap=cm.jet), alpha = 0.5)\u001b[0m\n\u001b[0m                                                                   ^\u001b[0m\n\u001b[0;31mSyntaxError\u001b[0m\u001b[0;31m:\u001b[0m invalid syntax\n"
     ]
    }
   ],
   "source": [
    "## Since the flow variation across tower is not that big, \n",
    "## we can use a log function to better visualize it on our plot. \n",
    "## Numpy has a quick log implementation:\n",
    "\n",
    "import matplotlib.cm as cm\n",
    "\n",
    "color = OD_location['flow']\n",
    "\n",
    "plt.scatter(OD_location['Longitude'],OD_location['Latitude'], \n",
    "            s=np.log(OD_location['flow'])*100, \n",
    "            edgecolors = 'black', color = (np.log(OD_location['flow']),cmap=cm.jet), alpha = 0.5)\n",
    "plt.show()"
   ]
  },
  {
   "cell_type": "markdown",
   "metadata": {},
   "source": [
    "**Based on the code snippets, and your previous code your job is to build:**\n",
    "\n",
    "* A function that creates a [color range](http://matplotlib.org/users/colormaps.html) based on a `numpy array` of numeric values [(Example 1)](http://stackoverflow.com/questions/12965075/matplotlib-scatter-plot-colour-as-function-of-third-variable), [(Example 2)](http://stackoverflow.com/questions/11364745/how-can-i-turn-a-numpy-array-into-a-matplotlib-colormap). The function must have the following inputs/outputs:\n",
    "    1. Inputs: \n",
    "      1. A `numpy` `array` or a `Pandas DataSeries`\n",
    "      * Two different colors to interpolate values between.\n",
    "    2. Outputs: \n",
    "      1. A `numpy array` of `colors` or `color values` \n",
    "      "
   ]
  },
  {
   "cell_type": "code",
   "execution_count": 33,
   "metadata": {
    "collapsed": false
   },
   "outputs": [
    {
     "data": {
      "image/png": "[encoded data removed]",
      "text/plain": [
       "<matplotlib.figure.Figure at 0x12083fcd0>"
      ]
     },
     "metadata": {},
     "output_type": "display_data"
    }
   ],
   "source": [
    "# Add your code below:\n",
    "\n",
    "import numpy as np\n",
    "import matplotlib.pyplot as plt\n",
    "\n",
    "x = np.linspace(0, 20, 100)\n",
    "y = np.sin(x)\n",
    "z = x + 20 * y\n",
    "\n",
    "scaled_z = (z - z.min()) / z.ptp()\n",
    "colors = plt.cm.coolwarm(scaled_z)\n",
    "\n",
    "plt.scatter(x, y, marker='+', edgecolors=colors, s=100, linewidths=1)\n",
    "plt.show()"
   ]
  },
  {
   "cell_type": "markdown",
   "metadata": {},
   "source": [
    "### All the plots below should be scatter plots. Parameterize the size of the points to the obtained values.\n",
    "\n",
    "* A plot that visualizes the average flow values using the 24 hour ranges. Color the plots using the function to create the color array.\n",
    "    * The `Dataframe` must be grouped and averaged by 'oid'\n",
    "    * The flow values must be averaged across the 24 hr ranges. IE\n",
    "    ```Python\n",
    "    flow_ranges = [5, 5, 5, 5, 5, 5, 10, 10, 10, 10, 10, 10]\n",
    "    avg_flow = 7.5\n",
    "    ```"
   ]
  },
  {
   "cell_type": "code",
   "execution_count": 17,
   "metadata": {
    "collapsed": true
   },
   "outputs": [],
   "source": [
    "# Add your code below:\n"
   ]
  },
  {
   "cell_type": "markdown",
   "metadata": {},
   "source": [
    "* A plot that visualizes the maximum flow values using the 24 hour ranges. Color the plots using the function to create the color array.\n",
    "    * The `Dataframe` must be grouped by 'oid', you can then use these values to find the `max()`\n",
    "    * Use those flow values to find the `max()` across the 24 hr ranges. IE\n",
    "    ```Python\n",
    "    flow_ranges = [5, 5, 5, 5, 5, 5, 10, 10, 10, 10, 10, 100]\n",
    "    max_flow = 100\n",
    "    ```"
   ]
  },
  {
   "cell_type": "code",
   "execution_count": 18,
   "metadata": {
    "collapsed": true
   },
   "outputs": [],
   "source": [
    "# Add your code below:\n"
   ]
  },
  {
   "cell_type": "markdown",
   "metadata": {},
   "source": [
    "* A plot that visualizes the minimum flow values using the 24 hour ranges. Color the plots using the function to create the color array.\n",
    "    * The `Dataframe` must be grouped by 'oid', you can then use these values to find the `min()`\n",
    "    * Use those flow values to find the `min()` across the 24 hr ranges. IE\n",
    "    ```Python\n",
    "    flow_ranges = [5, 5, 5, 5, 5, 5, 10, 10, 10, 10, 10, 100]\n",
    "    min_flow = 5\n",
    "    ```"
   ]
  },
  {
   "cell_type": "code",
   "execution_count": 19,
   "metadata": {
    "collapsed": true
   },
   "outputs": [],
   "source": [
    "# Add your code below:\n"
   ]
  },
  {
   "cell_type": "markdown",
   "metadata": {},
   "source": [
    "## Graphic Presentation\n",
    "#### Make sure to label all the axis, add legends and units (where appropriate).\n",
    "\n",
    "\n",
    "## Code Quality\n",
    "#### While code performance and optimization won't count, all the code should be highly readable, and reusable. Where possible, create functions, build helper functions where needed, and make sure the code is self-explanatory."
   ]
  }
 ],
 "metadata": {
  "kernelspec": {
   "display_name": "Python 2",
   "language": "python",
   "name": "python2"
  },
  "language_info": {
   "codemirror_mode": {
    "name": "ipython",
    "version": 2
   },
   "file_extension": ".py",
   "mimetype": "text/x-python",
   "name": "python",
   "nbconvert_exporter": "python",
   "pygments_lexer": "ipython2",
   "version": "2.7.11"
  }
 },
 "nbformat": 4,
 "nbformat_minor": 0
}
