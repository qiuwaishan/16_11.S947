{
 "cells": [
  {
   "cell_type": "markdown",
   "metadata": {},
   "source": [
    "# Problem Set 0: Intro to Github, Python, and Anaconda"
   ]
  },
  {
   "cell_type": "markdown",
   "metadata": {},
   "source": [
    "In this problem set, you are going to setup your github.io homepage, and then run some basic scraping using Anaconda and Beautiful Soup. For your deliverable, upload the set of scraped data to your github.io page space as a CSV. On your github.io page, use HTML to crete a link to your CSV containing the scraped data.\n",
    "\n",
    "`On the assignment of tne Stellar website, submit the link to your github page.`"
   ]
  },
  {
   "cell_type": "markdown",
   "metadata": {},
   "source": [
    "### 1. Create your github.io page"
   ]
  },
  {
   "cell_type": "markdown",
   "metadata": {},
   "source": [
    "Following the instructions found in Part 1 of the in-class tutorial, create your github homepage. On this page, include the following:\n",
    "\n",
    "1. a Heading with your name\n",
    "2. a Paragraph element containing text explaining what type of data you can download from your page\n",
    "3. a Link to a CSV document containing scraped data in your github page space (CSV created in Part 2 below)\n",
    "\n",
    "This is your github homepage and you can set this up however you like. We will revisit this page later in the course when you will customize it further, add more content, and do some design and styling."
   ]
  },
  {
   "cell_type": "markdown",
   "metadata": {},
   "source": [
    "### 2. Python and Scraping with Beautiful Soup"
   ]
  },
  {
   "cell_type": "markdown",
   "metadata": {},
   "source": [
    "Scrape the data from the following page:\n",
    "\n",
    "[Riyadh TAZ Population Data and Demographics](http://duspviz.mit.edu/_assets/data/riyadh_taz_data.html)\n",
    "\n",
    "Create a CSV that you will upload to your github webspace. This CSV should contain only the following four fields:\n",
    "\n",
    "1. TAZ ID\n",
    "2. Saudi Population\n",
    "3. Non-Saudi Population\n",
    "4. Total Population"
   ]
  }
 ],
 "metadata": {
  "kernelspec": {
   "display_name": "Python 2",
   "language": "python",
   "name": "python2"
  },
  "language_info": {
   "codemirror_mode": {
    "name": "ipython",
    "version": 2
   },
   "file_extension": ".py",
   "mimetype": "text/x-python",
   "name": "python",
   "nbconvert_exporter": "python",
   "pygments_lexer": "ipython2",
   "version": "2.7.10"
  }
 },
 "nbformat": 4,
 "nbformat_minor": 0
}
